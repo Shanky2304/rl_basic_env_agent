{
 "cells": [
  {
   "cell_type": "code",
   "execution_count": 2,
   "metadata": {
    "id": "9j4Qb7nU6RuC"
   },
   "outputs": [
    {
     "name": "stderr",
     "output_type": "stream",
     "text": [
      "\n"
     ]
    }
   ],
   "source": [
    "import numpy as np\n",
    "import matplotlib.pyplot as plt\n",
    "import gym\n",
    "from gym import spaces"
   ]
  },
  {
   "cell_type": "code",
   "execution_count": 22,
   "metadata": {
    "id": "UM3-Q6zv68Ib"
   },
   "outputs": [],
   "source": [
    "class GridEnvironment(gym.Env):\n",
    "    metadata = { 'render.modes': []}\n",
    "\n",
    "    def __init__(self):\n",
    "        self.observation_space = spaces.Discrete(9)\n",
    "        self.action_space = spaces.Discrete(4)\n",
    "        self.max_timesteps = 10\n",
    "\n",
    "    def reset(self):\n",
    "        # Reset stochastic to 0, i.e., make it a deterministic env\n",
    "        self.stochastic = 0\n",
    "        self.timestep = 0\n",
    "        self.agent_pos = [0, 0]\n",
    "        self.goal_pos = [3, 3]\n",
    "        #obstacle1\n",
    "        self.obstacle1_pos = [1,2]\n",
    "        #obstacle2\n",
    "        self.obstacle2_pos = [3,0]\n",
    "        #reward2\n",
    "        self.reward2_pos = [1,3]\n",
    "        #reward3\n",
    "        self.reward3_pos = [2,1]\n",
    "        #reward4\n",
    "        self.reward4_pos = [3,2]\n",
    "        self.state = np.zeros((4, 4))\n",
    "        self.state[tuple(self.agent_pos)] = 1\n",
    "        self.state[tuple(self.goal_pos)] = 0.6\n",
    "        self.state[tuple(self.obstacle1_pos)] = 0.4\n",
    "        self.state[tuple(self.obstacle2_pos)] = 0.4\n",
    "        self.state[tuple(self.reward2_pos)] = 0.7\n",
    "        self.state[tuple(self.reward3_pos)] = 0.7\n",
    "        self.state[tuple(self.reward4_pos)] = 0.7\n",
    "        observation = self.state.flatten()\n",
    "        return observation\n",
    "\n",
    "    def step(self, action):\n",
    "        self.timestep += 1\n",
    "        already_done = True if (np.array(self.agent_pos) == self.goal_pos).all() else False\n",
    "                \n",
    "        if action == 0:\n",
    "            if(self.stochastic):\n",
    "                self.agent_pos[0] += np.random.choice(np.array([0,1]), 1, p=[0.05, 0.95])[0]\n",
    "            else:\n",
    "                self.agent_pos[0] += 1\n",
    "        if action == 1:\n",
    "            if(self.stochastic):\n",
    "                self.agent_pos[0] -= np.random.choice(np.array([0,1]), 1, p=[0.05, 0.95])[0]\n",
    "            else:\n",
    "                self.agent_pos[0] -= 1\n",
    "        if action == 2:\n",
    "            if(self.stochastic):\n",
    "                self.agent_pos[1] += np.random.choice(np.array([0,1]), 1, p=[0.05, 0.95])[0]\n",
    "            else:\n",
    "                self.agent_pos[1] += 1\n",
    "        if action == 3:\n",
    "            if(self.stochastic):\n",
    "                self.agent_pos[1] -= np.random.choice(np.array([0,1]), 1, p=[0.05, 0.95])[0]\n",
    "            else:\n",
    "                self.agent_pos[1] -= 1\n",
    "\n",
    "        self.agent_pos = np.clip(self.agent_pos, 0, 3).tolist()\n",
    "        \n",
    "        self.state = np.zeros((4,4))\n",
    "        self.state[tuple(self.goal_pos)] = 0.05\n",
    "        self.state[tuple(self.obstacle1_pos)] = 0.4\n",
    "        self.state[tuple(self.obstacle2_pos)] = 0.4\n",
    "        self.state[tuple(self.reward2_pos)] = 0.7\n",
    "        self.state[tuple(self.reward3_pos)] = 0.7\n",
    "        self.state[tuple(self.reward4_pos)] = 0.7\n",
    "        self.state[tuple(self.agent_pos)] = 1\n",
    "        observation = self.state.flatten()\n",
    "        reward = 0\n",
    "        reward_pos_list = [self.reward2_pos, self.reward3_pos, self.reward4_pos]\n",
    "        obstacle_pos_list = [self.obstacle1_pos, self.obstacle2_pos]\n",
    "\n",
    "        if (np.array(self.agent_pos) == self.goal_pos).all():\n",
    "            reward = 3\n",
    "        elif (self.agent_pos in obstacle_pos_list):\n",
    "            reward = -1\n",
    "        elif (self.agent_pos in reward_pos_list):\n",
    "            reward = 1\n",
    "\n",
    "        done = True if ((self.timestep >= self.max_timesteps) or self.agent_pos == self.goal_pos) else False\n",
    "        info = []\n",
    "        \n",
    "        #Agent shouldn't keep running after we're already done, enforce it.\n",
    "        if already_done:\n",
    "            reward = -3\n",
    "\n",
    "        return observation, reward, done, info\n",
    "    \n",
    "    def set_stochastic(self):\n",
    "        self.stochastic = 1\n",
    "\n",
    "    def render(self):\n",
    "        plt.imshow(self.state, cmap='turbo')"
   ]
  },
  {
   "cell_type": "code",
   "execution_count": 23,
   "metadata": {},
   "outputs": [],
   "source": [
    "class RandomAgent:\n",
    "    def __init__(self, env):\n",
    "        self.env = env\n",
    "        self.observation_space = env.observation_space\n",
    "        self.action_space = env.action_space\n",
    "\n",
    "    def step(self, observation):\n",
    "        return np.random.choice(self.action_space.n)"
   ]
  },
  {
   "cell_type": "code",
   "execution_count": 29,
   "metadata": {
    "colab": {
     "base_uri": "https://localhost:8080/",
     "height": 269
    },
    "id": "8Rk7dsV99XZ2",
    "outputId": "5f18f174-6fbc-44ec-bb7f-1750925669ff"
   },
   "outputs": [
    {
     "data": {
      "image/png": "[encoded data removed]",
      "text/plain": [
       "<Figure size 432x288 with 1 Axes>"
      ]
     },
     "metadata": {
      "needs_background": "light"
     },
     "output_type": "display_data"
    }
   ],
   "source": [
    "env = GridEnvironment()\n",
    "agent = RandomAgent(env)\n",
    "obs = env.reset()\n",
    "env.render()"
   ]
  },
  {
   "cell_type": "code",
   "execution_count": 30,
   "metadata": {},
   "outputs": [
    {
     "data": {
      "image/png": "[encoded data removed]",
      "text/plain": [
       "<Figure size 432x288 with 1 Axes>"
      ]
     },
     "metadata": {
      "needs_background": "light"
     },
     "output_type": "display_data"
    },
    {
     "data": {},
     "metadata": {
      "outputarea": {
       "add_tags": [],
       "nodisplay": true,
       "remove_tags": [
        "user_output"
       ]
      }
     },
     "output_type": "display_data"
    },
    {
     "data": {
      "application/javascript": [
       "window[\"3d2a30ba-928c-11ec-bc6e-1e00a33cf65a\"] = google.colab.output.setActiveOutputArea(window[\"3d1627d2-928c-11ec-bc6e-1e00a33cf65a\"]);\n",
       "//# sourceURL=js_70d19b1b73"
      ],
      "text/plain": [
       "<IPython.core.display.Javascript object>"
      ]
     },
     "metadata": {},
     "output_type": "display_data"
    },
    {
     "data": {},
     "metadata": {
      "outputarea": {
       "add_tags": [],
       "nodisplay": true,
       "remove_tags": [
        "id22-0-0"
       ]
      }
     },
     "output_type": "display_data"
    },
    {
     "data": {},
     "metadata": {
      "outputarea": {
       "add_tags": [],
       "nodisplay": true,
       "remove_tags": [
        "outputarea_id22"
       ]
      }
     },
     "output_type": "display_data"
    },
    {
     "name": "stdout",
     "output_type": "stream",
     "text": [
      "[0, 0, 0, 0, 0, 0, 0, 0, 1, 0]\n",
      "Total reward = 1\n"
     ]
    }
   ],
   "source": [
    "#Random agent demo for 10 time steps (since max_timestep = 10)\n",
    "from google.colab import widgets\n",
    "import time\n",
    "\n",
    "output_grid = widgets.Grid(1, 1)\n",
    "rewards = []\n",
    "done = False\n",
    "while not done:\n",
    "    action = agent.step(obs)\n",
    "    observation, reward, done, info = env.step(action)\n",
    "    with output_grid.output_to(0, 0):\n",
    "        output_grid.clear_cell()\n",
    "        env.render()\n",
    "    rewards.append(reward)\n",
    "    time.sleep(1)\n",
    "print(rewards)\n",
    "print(\"Total reward =\", sum(rewards))"
   ]
  },
  {
   "cell_type": "code",
   "execution_count": 31,
   "metadata": {},
   "outputs": [
    {
     "data": {
      "image/png": "[encoded data removed]",
      "text/plain": [
       "<Figure size 432x288 with 1 Axes>"
      ]
     },
     "metadata": {
      "needs_background": "light"
     },
     "output_type": "display_data"
    }
   ],
   "source": [
    "env = GridEnvironment()\n",
    "agent = RandomAgent(env)\n",
    "obs = env.reset()\n",
    "env.set_stochastic()\n",
    "env.render()"
   ]
  },
  {
   "cell_type": "code",
   "execution_count": 32,
   "metadata": {},
   "outputs": [
    {
     "data": {
      "image/png": "[encoded data removed]",
      "text/plain": [
       "<Figure size 432x288 with 1 Axes>"
      ]
     },
     "metadata": {
      "needs_background": "light"
     },
     "output_type": "display_data"
    },
    {
     "data": {},
     "metadata": {
      "outputarea": {
       "add_tags": [],
       "nodisplay": true,
       "remove_tags": [
        "user_output"
       ]
      }
     },
     "output_type": "display_data"
    },
    {
     "data": {
      "application/javascript": [
       "window[\"48196130-928c-11ec-bc6e-1e00a33cf65a\"] = google.colab.output.setActiveOutputArea(window[\"4809b474-928c-11ec-bc6e-1e00a33cf65a\"]);\n",
       "//# sourceURL=js_4eb742343c"
      ],
      "text/plain": [
       "<IPython.core.display.Javascript object>"
      ]
     },
     "metadata": {},
     "output_type": "display_data"
    },
    {
     "data": {},
     "metadata": {
      "outputarea": {
       "add_tags": [],
       "nodisplay": true,
       "remove_tags": [
        "id24-0-0"
       ]
      }
     },
     "output_type": "display_data"
    },
    {
     "data": {},
     "metadata": {
      "outputarea": {
       "add_tags": [],
       "nodisplay": true,
       "remove_tags": [
        "outputarea_id24"
       ]
      }
     },
     "output_type": "display_data"
    },
    {
     "name": "stdout",
     "output_type": "stream",
     "text": [
      "[0, 0, 0, -1, -1, -1, -1, 0, 1, 0]\n",
      "Total reward = -3\n"
     ]
    }
   ],
   "source": [
    "#Random agent demo for 10 time steps in stochastic env (since max_timestep = 10)\n",
    "from google.colab import widgets\n",
    "import time\n",
    "\n",
    "output_grid = widgets.Grid(1, 1)\n",
    "rewards = []\n",
    "done = False\n",
    "while not done:\n",
    "    action = agent.step(obs)\n",
    "    observation, reward, done, info = env.step(action)\n",
    "    with output_grid.output_to(0, 0):\n",
    "        output_grid.clear_cell()\n",
    "        env.render()\n",
    "    rewards.append(reward)\n",
    "    time.sleep(1)\n",
    "print(rewards)\n",
    "print(\"Total reward =\", sum(rewards))"
   ]
  },
  {
   "cell_type": "code",
   "execution_count": 33,
   "metadata": {},
   "outputs": [
    {
     "data": {
      "image/png": "[encoded data removed]",
      "text/plain": [
       "<Figure size 432x288 with 1 Axes>"
      ]
     },
     "metadata": {
      "needs_background": "light"
     },
     "output_type": "display_data"
    }
   ],
   "source": [
    "env = GridEnvironment()\n",
    "agent = RandomAgent(env)\n",
    "obs = env.reset()\n",
    "env.render()"
   ]
  },
  {
   "cell_type": "code",
   "execution_count": 34,
   "metadata": {
    "colab": {
     "base_uri": "https://localhost:8080/",
     "height": 286
    },
    "id": "iYkVISkn9dJp",
    "outputId": "b380a733-9fc4-45d5-dd7f-b7047b5159ec"
   },
   "outputs": [
    {
     "data": {
      "image/png": "[encoded data removed]",
      "text/plain": [
       "<Figure size 432x288 with 1 Axes>"
      ]
     },
     "metadata": {
      "needs_background": "light"
     },
     "output_type": "display_data"
    },
    {
     "data": {},
     "metadata": {
      "outputarea": {
       "add_tags": [],
       "nodisplay": true,
       "remove_tags": [
        "user_output"
       ]
      }
     },
     "output_type": "display_data"
    },
    {
     "data": {
      "application/javascript": [
       "window[\"54026ece-928c-11ec-bc6e-1e00a33cf65a\"] = google.colab.output.setActiveOutputArea(window[\"53f160a2-928c-11ec-bc6e-1e00a33cf65a\"]);\n",
       "//# sourceURL=js_38b8a90ca3"
      ],
      "text/plain": [
       "<IPython.core.display.Javascript object>"
      ]
     },
     "metadata": {},
     "output_type": "display_data"
    },
    {
     "data": {},
     "metadata": {
      "outputarea": {
       "add_tags": [],
       "nodisplay": true,
       "remove_tags": [
        "id26-0-0"
       ]
      }
     },
     "output_type": "display_data"
    },
    {
     "data": {},
     "metadata": {
      "outputarea": {
       "add_tags": [],
       "nodisplay": true,
       "remove_tags": [
        "outputarea_id26"
       ]
      }
     },
     "output_type": "display_data"
    },
    {
     "name": "stdout",
     "output_type": "stream",
     "text": [
      "[0, 0, -1, 1, 0, 0, 1, 0, 1, 3, -3]\n",
      "Total reward = 2\n"
     ]
    }
   ],
   "source": [
    "# 11 step demo to show logical progression in the env\n",
    "output_grid = widgets.Grid(1, 1)\n",
    "rewards = []\n",
    "for action in [2, 2, 0, 2, 0, 3, 3, 0, 2, 2, 2]:\n",
    "    observation, reward, done, info = env.step(action)\n",
    "    with output_grid.output_to(0, 0):\n",
    "        output_grid.clear_cell()\n",
    "        env.render()\n",
    "    rewards.append(reward)\n",
    "    time.sleep(1)\n",
    "print(rewards)\n",
    "print(\"Total reward =\", sum(rewards))\n",
    "\n",
    "# Note below the reward for the last action is -3 even though the agent remains in goal position.\n",
    "# This is because the max time steps(10) have expired and further steps are penalised.\n",
    "# The idea here is that the agent should learn to stop after max time steps, to avoid these penalties."
   ]
  },
  {
   "cell_type": "code",
   "execution_count": 49,
   "metadata": {
    "id": "zXLT91H39pRX"
   },
   "outputs": [
    {
     "data": {
      "image/png": "[encoded data removed]",
      "text/plain": [
       "<Figure size 432x288 with 1 Axes>"
      ]
     },
     "metadata": {
      "needs_background": "light"
     },
     "output_type": "display_data"
    }
   ],
   "source": [
    "env = GridEnvironment()\n",
    "obs = env.reset()\n",
    "env.set_stochastic()\n",
    "env.render()"
   ]
  },
  {
   "cell_type": "code",
   "execution_count": 50,
   "metadata": {},
   "outputs": [
    {
     "data": {
      "image/png": "[encoded data removed]",
      "text/plain": [
       "<Figure size 432x288 with 1 Axes>"
      ]
     },
     "metadata": {
      "needs_background": "light"
     },
     "output_type": "display_data"
    },
    {
     "data": {},
     "metadata": {
      "outputarea": {
       "add_tags": [],
       "nodisplay": true,
       "remove_tags": [
        "user_output"
       ]
      }
     },
     "output_type": "display_data"
    },
    {
     "data": {
      "application/javascript": [
       "window[\"e61aae52-928c-11ec-bc6e-1e00a33cf65a\"] = google.colab.output.setActiveOutputArea(window[\"e60adbf8-928c-11ec-bc6e-1e00a33cf65a\"]);\n",
       "//# sourceURL=js_9a3557e6a3"
      ],
      "text/plain": [
       "<IPython.core.display.Javascript object>"
      ]
     },
     "metadata": {},
     "output_type": "display_data"
    },
    {
     "data": {},
     "metadata": {
      "outputarea": {
       "add_tags": [],
       "nodisplay": true,
       "remove_tags": [
        "id42-0-0"
       ]
      }
     },
     "output_type": "display_data"
    },
    {
     "data": {},
     "metadata": {
      "outputarea": {
       "add_tags": [],
       "nodisplay": true,
       "remove_tags": [
        "outputarea_id42"
       ]
      }
     },
     "output_type": "display_data"
    },
    {
     "name": "stdout",
     "output_type": "stream",
     "text": [
      "[0, 0, -1, 1, 0, 0, 0, 1, 3, -3, -3]\n",
      "Total reward = -2\n"
     ]
    }
   ],
   "source": [
    "#In a stochastic env with the same steps/actions we might get a different reward.\n",
    "output_grid = widgets.Grid(1, 1)\n",
    "rewards = []\n",
    "for action in [2, 2, 0, 2, 0, 3, 3, 0, 2, 2, 2]:\n",
    "    observation, reward, done, info = env.step(action)\n",
    "    with output_grid.output_to(0, 0):\n",
    "        output_grid.clear_cell()\n",
    "        env.render()\n",
    "    rewards.append(reward)\n",
    "    time.sleep(1)\n",
    "print(rewards)\n",
    "print(\"Total reward =\", sum(rewards))"
   ]
  }
 ],
 "metadata": {
  "colab": {
   "name": "spring22_lec_3_RL_Env.ipynb",
   "provenance": []
  },
  "kernelspec": {
   "display_name": "Python 3 (ipykernel)",
   "language": "python",
   "name": "python3"
  },
  "language_info": {
   "codemirror_mode": {
    "name": "ipython",
    "version": 3
   },
   "file_extension": ".py",
   "mimetype": "text/x-python",
   "name": "python",
   "nbconvert_exporter": "python",
   "pygments_lexer": "ipython3",
   "version": "3.8.12"
  }
 },
 "nbformat": 4,
 "nbformat_minor": 4
}
